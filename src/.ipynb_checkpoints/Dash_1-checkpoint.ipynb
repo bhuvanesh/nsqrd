{
 "cells": [
  {
   "cell_type": "code",
   "execution_count": 1,
   "id": "e6558dc6",
   "metadata": {},
   "outputs": [],
   "source": [
    "import pandas as pd\n",
    "import plotly.express as px  # (version 4.7.0 or higher)\n",
    "import plotly.graph_objects as go\n",
    "from dash import Dash, dcc, html, Input, Output  # pip install dash (version 2.0.0 or higher)"
   ]
  },
  {
   "cell_type": "code",
   "execution_count": 2,
   "id": "8c3b81d9",
   "metadata": {},
   "outputs": [
    {
     "name": "stdout",
     "output_type": "stream",
     "text": [
      "     State  ANSI Affected by  Year state_code  Pct of Colonies Impacted\n",
      "0  Alabama     1     Disease  2015         AL                      0.05\n",
      "1  Alabama     1     Disease  2016         AL                      1.20\n",
      "2  Alabama     1     Disease  2017         AL                      2.25\n",
      "3  Alabama     1     Disease  2018         AL                      1.30\n",
      "4  Alabama     1     Disease  2019         AL                      1.80\n"
     ]
    }
   ],
   "source": [
    "df = pd.read_csv(\"intro_bees.csv\")\n",
    "\n",
    "df = df.groupby(['State', 'ANSI', 'Affected by', 'Year', 'state_code'])[['Pct of Colonies Impacted']].mean()\n",
    "df.reset_index(inplace=True)\n",
    "print(df[:5])"
   ]
  },
  {
   "cell_type": "code",
   "execution_count": null,
   "id": "e2c7d55b",
   "metadata": {},
   "outputs": [],
   "source": []
  }
 ],
 "metadata": {
  "kernelspec": {
   "display_name": "jupyter",
   "language": "python",
   "name": "python3"
  },
  "language_info": {
   "codemirror_mode": {
    "name": "ipython",
    "version": 3
   },
   "file_extension": ".py",
   "mimetype": "text/x-python",
   "name": "python",
   "nbconvert_exporter": "python",
   "pygments_lexer": "ipython3",
   "version": "3.10.9"
  },
  "vscode": {
   "interpreter": {
    "hash": "a03921e70016bbdde9144ca60f08cbd05b79568cf8a78a3a20fd2d6620936dc7"
   }
  }
 },
 "nbformat": 4,
 "nbformat_minor": 5
}
