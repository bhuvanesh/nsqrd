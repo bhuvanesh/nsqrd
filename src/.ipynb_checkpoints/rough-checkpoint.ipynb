{
 "cells": [
  {
   "cell_type": "code",
   "execution_count": 1,
   "id": "cba6fcbd-9e2f-4433-805a-6fba1073eb3b",
   "metadata": {
    "tags": []
   },
   "outputs": [
    {
     "name": "stdout",
     "output_type": "stream",
     "text": [
      "7\n"
     ]
    }
   ],
   "source": [
    "a =7\n",
    "print(a)"
   ]
  },
  {
   "cell_type": "code",
   "execution_count": 3,
   "id": "cc693f7d-570f-48d3-b7d2-f75f4d698414",
   "metadata": {
    "tags": []
   },
   "outputs": [
    {
     "data": {
      "text/plain": [
       "'4333289904'"
      ]
     },
     "execution_count": 3,
     "metadata": {},
     "output_type": "execute_result"
    }
   ],
   "source": [
    "str(id(a))"
   ]
  },
  {
   "cell_type": "code",
   "execution_count": 4,
   "id": "49ba04ca-1505-419f-91cc-066848ec7d52",
   "metadata": {
    "tags": []
   },
   "outputs": [],
   "source": [
    "import numpy as np"
   ]
  },
  {
   "cell_type": "code",
   "execution_count": 13,
   "id": "8da0eefe-34ec-406b-ab92-aa8869c5a674",
   "metadata": {
    "tags": []
   },
   "outputs": [
    {
     "ename": "TypeError",
     "evalue": "type numpy.ndarray doesn't define __round__ method",
     "output_type": "error",
     "traceback": [
      "\u001b[0;31m---------------------------------------------------------------------------\u001b[0m",
      "\u001b[0;31mTypeError\u001b[0m                                 Traceback (most recent call last)",
      "Cell \u001b[0;32mIn[13], line 1\u001b[0m\n\u001b[0;32m----> 1\u001b[0m vals \u001b[38;5;241m=\u001b[39m \u001b[38;5;28;43mround\u001b[39;49m\u001b[43m(\u001b[49m\u001b[43mnp\u001b[49m\u001b[38;5;241;43m.\u001b[39;49m\u001b[43marange\u001b[49m\u001b[43m(\u001b[49m\u001b[38;5;241;43m-\u001b[39;49m\u001b[38;5;241;43m5\u001b[39;49m\u001b[43m,\u001b[49m\u001b[38;5;241;43m5\u001b[39;49m\u001b[43m,\u001b[49m\u001b[38;5;241;43m.2\u001b[39;49m\u001b[43m)\u001b[49m\u001b[43m,\u001b[49m\u001b[38;5;241;43m2\u001b[39;49m\u001b[43m)\u001b[49m\n\u001b[1;32m      2\u001b[0m display(vals)\n",
      "\u001b[0;31mTypeError\u001b[0m: type numpy.ndarray doesn't define __round__ method"
     ]
    }
   ],
   "source": [
    "vals = np.arange(-5,5,.2)\n",
    "display(vals)"
   ]
  },
  {
   "cell_type": "code",
   "execution_count": 12,
   "id": "6e2c1543-9ce8-4d43-a797-cf680aeabb39",
   "metadata": {
    "tags": []
   },
   "outputs": [
    {
     "data": {
      "text/plain": [
       "array([-9.99909204e-01, -9.99864552e-01, -9.99797942e-01, -9.99698579e-01,\n",
       "       -9.99550366e-01, -9.99329300e-01, -9.98999598e-01, -9.98507942e-01,\n",
       "       -9.97774928e-01, -9.96682398e-01, -9.95054754e-01, -9.92631520e-01,\n",
       "       -9.89027402e-01, -9.83674858e-01, -9.75743130e-01, -9.64027580e-01,\n",
       "       -9.46806013e-01, -9.21668554e-01, -8.85351648e-01, -8.33654607e-01,\n",
       "       -7.61594156e-01, -6.64036770e-01, -5.37049567e-01, -3.79948962e-01,\n",
       "       -1.97375320e-01,  4.44089210e-15,  1.97375320e-01,  3.79948962e-01,\n",
       "        5.37049567e-01,  6.64036770e-01,  7.61594156e-01,  8.33654607e-01,\n",
       "        8.85351648e-01,  9.21668554e-01,  9.46806013e-01,  9.64027580e-01,\n",
       "        9.75743130e-01,  9.83674858e-01,  9.89027402e-01,  9.92631520e-01,\n",
       "        9.95054754e-01,  9.96682398e-01,  9.97774928e-01,  9.98507942e-01,\n",
       "        9.98999598e-01,  9.99329300e-01,  9.99550366e-01,  9.99698579e-01,\n",
       "        9.99797942e-01,  9.99864552e-01])"
      ]
     },
     "metadata": {},
     "output_type": "display_data"
    }
   ],
   "source": [
    "tvals = np.tanh(vals)\n",
    "display(tvals)"
   ]
  },
  {
   "cell_type": "code",
   "execution_count": 40,
   "id": "4e4c0515-32c2-4d25-9d95-c2a5e6154dd2",
   "metadata": {
    "tags": []
   },
   "outputs": [],
   "source": [
    "import helpers.utilx as ut2\n",
    "\n",
    "import pandas as pd\n",
    "\n",
    "# df = pd.read_csv('location_data.csv')\n",
    "\n",
    "# dff = gum(df)\n",
    "\n",
    "# print(dff)"
   ]
  },
  {
   "cell_type": "code",
   "execution_count": 41,
   "id": "86ec1ce8-831a-4203-993a-136116655818",
   "metadata": {
    "tags": []
   },
   "outputs": [
    {
     "ename": "NameError",
     "evalue": "name 'pd' is not defined",
     "output_type": "error",
     "traceback": [
      "\u001b[0;31m---------------------------------------------------------------------------\u001b[0m",
      "\u001b[0;31mNameError\u001b[0m                                 Traceback (most recent call last)",
      "Cell \u001b[0;32mIn[41], line 3\u001b[0m\n\u001b[1;32m      1\u001b[0m df \u001b[38;5;241m=\u001b[39m pd\u001b[38;5;241m.\u001b[39mread_csv(\u001b[38;5;124m'\u001b[39m\u001b[38;5;124mlocation_data.csv\u001b[39m\u001b[38;5;124m'\u001b[39m)\n\u001b[0;32m----> 3\u001b[0m dff \u001b[38;5;241m=\u001b[39m \u001b[43mut2\u001b[49m\u001b[38;5;241;43m.\u001b[39;49m\u001b[43mget_user_metrics\u001b[49m\u001b[43m(\u001b[49m\u001b[43mdf\u001b[49m\u001b[43m)\u001b[49m\n\u001b[1;32m      5\u001b[0m \u001b[38;5;28mprint\u001b[39m(dff)\n",
      "File \u001b[0;32m~/pred point/wa-app/src/helpers/utilx.py:26\u001b[0m, in \u001b[0;36mget_user_metrics\u001b[0;34m(cdr_data)\u001b[0m\n\u001b[1;32m     25\u001b[0m \u001b[38;5;28;01mdef\u001b[39;00m \u001b[38;5;21mget_user_metrics\u001b[39m(cdr_data):\n\u001b[0;32m---> 26\u001b[0m     metric_df \u001b[38;5;241m=\u001b[39m \u001b[43mpd\u001b[49m\u001b[38;5;241m.\u001b[39mDataFrame(columns\u001b[38;5;241m=\u001b[39m[\u001b[38;5;124m'\u001b[39m\u001b[38;5;124mUSER ID\u001b[39m\u001b[38;5;124m'\u001b[39m, \u001b[38;5;124m'\u001b[39m\u001b[38;5;124m# of interactions\u001b[39m\u001b[38;5;124m'\u001b[39m, \u001b[38;5;124m'\u001b[39m\u001b[38;5;124mCalls to Text ratio\u001b[39m\u001b[38;5;124m'\u001b[39m, \u001b[38;5;124m'\u001b[39m\u001b[38;5;132;01m% i\u001b[39;00m\u001b[38;5;124mnitiated\u001b[39m\u001b[38;5;124m'\u001b[39m,\n\u001b[1;32m     27\u001b[0m            \u001b[38;5;124m'\u001b[39m\u001b[38;5;124mAvg call duration\u001b[39m\u001b[38;5;124m'\u001b[39m, \u001b[38;5;124m'\u001b[39m\u001b[38;5;124mAvg text length\u001b[39m\u001b[38;5;124m'\u001b[39m])\n\u001b[1;32m     29\u001b[0m     \u001b[38;5;28;01mfor\u001b[39;00m i \u001b[38;5;129;01min\u001b[39;00m cdr_data\u001b[38;5;241m.\u001b[39mx_id\u001b[38;5;241m.\u001b[39munique():\n\u001b[1;32m     30\u001b[0m         user_data \u001b[38;5;241m=\u001b[39m cdr_data[cdr_data[\u001b[38;5;124m'\u001b[39m\u001b[38;5;124mx_id\u001b[39m\u001b[38;5;124m'\u001b[39m] \u001b[38;5;241m==\u001b[39m i]\n",
      "\u001b[0;31mNameError\u001b[0m: name 'pd' is not defined"
     ]
    }
   ],
   "source": [
    "\n",
    "df = pd.read_csv('location_data.csv')\n",
    "\n",
    "dff = ut2.get_user_metrics(df)\n",
    "\n",
    "print(dff)"
   ]
  },
  {
   "cell_type": "code",
   "execution_count": null,
   "id": "fd42a459-13ac-408a-9729-5cb08c04ea1b",
   "metadata": {},
   "outputs": [],
   "source": []
  }
 ],
 "metadata": {
  "kernelspec": {
   "display_name": "Python 3 (ipykernel)",
   "language": "python",
   "name": "python3"
  },
  "language_info": {
   "codemirror_mode": {
    "name": "ipython",
    "version": 3
   },
   "file_extension": ".py",
   "mimetype": "text/x-python",
   "name": "python",
   "nbconvert_exporter": "python",
   "pygments_lexer": "ipython3",
   "version": "3.10.10"
  }
 },
 "nbformat": 4,
 "nbformat_minor": 5
}
